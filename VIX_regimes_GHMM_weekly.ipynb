{
 "cells": [
  {
   "cell_type": "markdown",
   "id": "743933b9",
   "metadata": {},
   "source": [
    "Weekly trading strategy based on Gaussian HMM trained on VIX."
   ]
  },
  {
   "cell_type": "code",
   "execution_count": null,
   "id": "099a4d1c",
   "metadata": {},
   "outputs": [],
   "source": [
    "import numpy as np\n",
    "import pandas as pd\n",
    "import hmmlearn.hmm as hmm\n",
    "\n",
    "import matplotlib.pyplot as plt\n",
    "import quantstats as qs"
   ]
  },
  {
   "cell_type": "code",
   "execution_count": null,
   "id": "b8eda841",
   "metadata": {},
   "outputs": [],
   "source": [
    "def load_weekly_data(ticker):\n",
    "    df = yf.download(ticker, interval = '1wk', period = 'max')[['Open','High','Low','Close','Volume','Adj Close']].reset_index()\n",
    "    df['Ratio'] = df['Adj Close'] / df['Close']\n",
    "    df['Open'] = df['Open'] * df['Ratio']\n",
    "    df['High'] = df['High'] * df['Ratio']\n",
    "    df['Low'] = df['Low'] * df['Ratio']\n",
    "    df['Close'] = df['Close'] * df['Ratio']\n",
    "    df = df.drop(['Ratio', 'Adj Close'], axis = 1)\n",
    "    df.columns = ['date','open','high','low','close','volume']\n",
    "    df = df.set_index(['date'])\n",
    "    df = df.dropna()\n",
    "    \n",
    "    return df\n",
    "\n",
    "def hmmModel(train, test, states):\n",
    "    train_vals = train.values\n",
    "    train_vals =  np.expand_dims(train_vals, 1)\n",
    "    train_vals = np.reshape(train_vals,[len(train_vals),1])\n",
    "    test_vals = test.values\n",
    "    test_vals =  np.expand_dims(test_vals, 1)\n",
    "    test_vals = np.reshape(test_vals,[len(test_vals),1])\n",
    "    \n",
    "    model = hmm.GaussianHMM(n_components=states, n_iter=1000)\n",
    "    model = model.fit(train_vals)\n",
    "    \n",
    "    hiddenState = model.predict(test_vals)\n",
    "    postProb = np.array(model.predict_proba(test_vals))\n",
    "    \n",
    "    states = pd.DataFrame(hiddenState, index = test.index);states.names = 'states'\n",
    "    probs = pd.DataFrame(postProb, index = test.index);probs.columns = ['state_1', 'state_2', 'state_3']\n",
    "    df = pd.concat([states, probs], axis = 1)\n",
    "    \n",
    "    return pd.concat([states, probs], axis = 1), model.means_"
   ]
  },
  {
   "cell_type": "code",
   "execution_count": null,
   "id": "24c00bc6",
   "metadata": {},
   "outputs": [],
   "source": [
    "data = load_weekly_data('^VIX').close\n",
    "n = np.floor(data.shape[0] * 0.7).astype(int)\n",
    "results, _ = hmmModel(data.iloc[:n], data.iloc[n:], 3)\n",
    "\n",
    "for i in range(_.shape[0]):\n",
    "    if _[i] == np.min(_):\n",
    "        v = i\n",
    "    else:\n",
    "        pass\n",
    "\n",
    "df = results.copy()\n",
    "spy = load_weekly_data('SPXL').loc[df.index].close\n",
    "df = pd.concat([spy.shift(-1).pct_change().dropna(),df], axis = 1).dropna()\n",
    "df.rename(columns = {'close':'spy'}, inplace = True)\n",
    "\n",
    "strat = pd.DataFrame(np.where(df[0] == v, df.spy, 0),index = df.index)[0]\n",
    "\n",
    "qs.plots.returns(strat, 'SPY')\n",
    "print(f'strategy sharpe: {np.round(qs.stats.sharpe(strat, periods = 52),3)}')"
   ]
  }
 ],
 "metadata": {
  "kernelspec": {
   "display_name": "Python 3 (ipykernel)",
   "language": "python",
   "name": "python3"
  },
  "language_info": {
   "codemirror_mode": {
    "name": "ipython",
    "version": 3
   },
   "file_extension": ".py",
   "mimetype": "text/x-python",
   "name": "python",
   "nbconvert_exporter": "python",
   "pygments_lexer": "ipython3",
   "version": "3.9.12"
  }
 },
 "nbformat": 4,
 "nbformat_minor": 5
}
